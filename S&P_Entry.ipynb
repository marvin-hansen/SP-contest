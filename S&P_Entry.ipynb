{
  "nbformat": 4,
  "nbformat_minor": 0,
  "metadata": {
    "colab": {
      "name": "S&P-Entry.ipynb",
      "version": "0.3.2",
      "provenance": [],
      "include_colab_link": true
    },
    "kernelspec": {
      "name": "python3",
      "display_name": "Python 3"
    }
  },
  "cells": [
    {
      "cell_type": "markdown",
      "metadata": {
        "id": "view-in-github",
        "colab_type": "text"
      },
      "source": [
        "<a href=\"https://colab.research.google.com/github/marvin-hansen/SP-contest/blob/master/S%26P_Entry.ipynb\" target=\"_parent\"><img src=\"https://colab.research.google.com/assets/colab-badge.svg\" alt=\"Open In Colab\"/></a>"
      ]
    },
    {
      "metadata": {
        "id": "03lFHo-V4-Z0",
        "colab_type": "text"
      },
      "cell_type": "markdown",
      "source": [
        "# Submission for the S&P 500 prediction challange\n",
        "\n",
        "Name: \n",
        "\n",
        "Date: \n",
        "\n",
        "Link to source:\n",
        "\n"
      ]
    },
    {
      "metadata": {
        "id": "a9y1dQlK5MnT",
        "colab_type": "text"
      },
      "cell_type": "markdown",
      "source": [
        "# Model Predictions\n",
        "\n",
        "| Date     \t| Actual Close \t| Predicted \t| Error \t|\n",
        "|----------\t|--------------\t|-----------\t|-------\t|\n",
        "| March/26 \t| 2,818.46     \t|           \t|       \t|\n",
        "| March/27 \t| 2,805.37     \t|           \t|       \t|\n",
        "| March/28 \t| 2,815.44     \t|           \t|       \t|\n"
      ]
    },
    {
      "metadata": {
        "id": "0riQu8xx7B4k",
        "colab_type": "text"
      },
      "cell_type": "markdown",
      "source": [
        "## Calculate prediction error "
      ]
    },
    {
      "metadata": {
        "id": "KZA2jWdK5L6O",
        "colab_type": "code",
        "colab": {}
      },
      "cell_type": "code",
      "source": [
        "# Calculate errror metric \n",
        "@ TODO "
      ],
      "execution_count": 0,
      "outputs": []
    },
    {
      "metadata": {
        "id": "Tf59Vs_Z6XH1",
        "colab_type": "text"
      },
      "cell_type": "markdown",
      "source": [
        "## Notes \n",
        "\n",
        "When predicting the percentage change, please multiply the predicted change with the closing price of the previous day and enter that number as predicted close price. \n",
        "\n",
        "## Error metric \n",
        "\n",
        "Error metric is defined as the percentage difference between the predicted and the actual closing price. The total error is defined as the average between all prediction error values."
      ]
    },
    {
      "metadata": {
        "id": "qTFUC6bG6k3e",
        "colab_type": "code",
        "colab": {}
      },
      "cell_type": "code",
      "source": [
        ""
      ],
      "execution_count": 0,
      "outputs": []
    }
  ]
}